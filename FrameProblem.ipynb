{
 "cells": [
  {
   "cell_type": "markdown",
   "metadata": {},
   "source": [
    "# AIR QUALITY AND HEALTH IMPACT\n",
    "\n",
    "### Trong đồ án này, nhóm chúng em xin phép được trình bày một quy trình Khoa Học Dữ Liệu với dataset về ảnh hưởng của chất lượng không khí đối với sức khỏe.\n",
    "\n",
    "### Các bước thực hiện:\n",
    "* Tiền xử lý dữ liệu.\n",
    "* Đưa ra các câu hỏi.\n",
    "* Phân tích và đánh giá."
   ]
  },
  {
   "cell_type": "markdown",
   "metadata": {},
   "source": [
    "#### Lý do chọn bộ dữ liệu:\n",
    "* Trong tình hình bối cảnh hiện nay, những tác động của ô nhiễm không khí đến sức khỏe trở nên rõ ràng hơn bao giờ hết. Do đó việc phân tích bộ dữ liệu này mang lại giá trị trong việc tăng nhận thức cộng đồng và hỗ trợ xây dựng các biện pháp cải thiện.\n",
    "* Bộ dữ liệu này phong phú cho phép ta phân tích nhiều khía cạnh khác nhau, từ đo lường mức độ ô nhiễm đến dự đoán tác động sức khỏe."
   ]
  },
  {
   "cell_type": "markdown",
   "metadata": {},
   "source": [
    "#### Thông tin về bộ dữ liệu:\n",
    "* Đường dẫn của bộ dữ liệu: [🌍 Air Quality and Health Impact Dataset🌍](https://www.kaggle.com/datasets/rabieelkharoua/air-quality-and-health-impact-dataset).\n",
    "* Bộ dữ liệu được lấy từ [Kaggle](https://www.kaggle.com).\n",
    "* Tập dữ liệu này được chia sẻ bởi **Rabie El Kharoua**. Nó được cung cấp theo giấy phép **CC BY 4.0**, cho phép mọi người sử dụng tập dữ liệu dưới mọi hình thức miễn là tác giả được trích dẫn thích hợp."
   ]
  },
  {
   "cell_type": "markdown",
   "metadata": {},
   "source": [
    "## Khai báo các thư viện cần thiết"
   ]
  },
  {
   "cell_type": "code",
   "execution_count": null,
   "metadata": {},
   "outputs": [],
   "source": [
    "import numpy as np\n",
    "import pandas as pd\n",
    "import matplotlib.pyplot as plt\n",
    "import seaborn as sns"
   ]
  },
  {
   "cell_type": "markdown",
   "metadata": {},
   "source": [
    "## Khám phá dữ liệu\n",
    "### Đọc dữ liệu từ file vào dataframe."
   ]
  },
  {
   "cell_type": "code",
   "execution_count": null,
   "metadata": {},
   "outputs": [],
   "source": [
    "file_name = './data/air_quality_health_impact_data.csv'\n",
    "raw_df = pd.read_csv(file_name)\n",
    "raw_df.head()"
   ]
  },
  {
   "cell_type": "markdown",
   "metadata": {},
   "source": [
    "### Có bao nhiêu dòng và cột của bộ dữ liệu thô này?\n",
    "Tiếp theo, ta sẽ tính số dòng và số cột của DataFrame 'raw_df' và lưu trữ nó vào biến 'shape' (tuple).\n",
    "\n",
    "**Nếu dữ liệu có số dòng nhỏ hơn 1000, thì ta sẽ tìm bộ liệu khác cũng liên quan đến chủ đề này.**"
   ]
  },
  {
   "cell_type": "code",
   "execution_count": null,
   "metadata": {},
   "outputs": [],
   "source": [
    "shape = raw_df.shape"
   ]
  },
  {
   "cell_type": "code",
   "execution_count": null,
   "metadata": {},
   "outputs": [],
   "source": [
    "print(f\"Current shape: {shape}\")\n",
    "\n",
    "if shape[0] > 1000:\n",
    "    print(f\"Our data good!.\")\n",
    "else:\n",
    "    print(f\"Our raw data absolutely small. Please choose a different dataset.!\")"
   ]
  },
  {
   "cell_type": "markdown",
   "metadata": {},
   "source": [
    "### Mỗi dòng có ý nghĩa gì?"
   ]
  },
  {
   "cell_type": "markdown",
   "metadata": {},
   "source": [
    "* Mỗi dòng là một bản ghi lưu trữ thông tin về chỉ số chất lượng không khí (AQI), nồng độ các chất ô nhiễm khác nhau, điều kiện thời tiết và số liệu tác động đến sức khỏe của chúng đến con người tại một thời điểm trong một khu vực.\n",
    "* Bộ dữ liệu không lưu trữ thông tin về thời gian và địa điểm vì nó không có ý nghĩa trong việc phân tích ảnh hưởng chất lượng không khí đến sức khỏe."
   ]
  },
  {
   "cell_type": "markdown",
   "metadata": {},
   "source": [
    "### Dữ liệu thô có dòng nào bị trùng không?\n",
    "Tiếp theo, chúng ta tính toán số dòng bị trùng và lưu trữ nó vào biến 'num_duplicated_rows'."
   ]
  },
  {
   "cell_type": "code",
   "execution_count": null,
   "metadata": {},
   "outputs": [],
   "source": [
    "num_duplicated_rows = raw_df[raw_df.duplicated()].shape[0]"
   ]
  },
  {
   "cell_type": "code",
   "execution_count": null,
   "metadata": {},
   "outputs": [],
   "source": [
    "if num_duplicated_rows == 0:\n",
    "    print(f\"Your raw data have no duplicated line.!\")\n",
    "else:\n",
    "    if num_duplicated_rows > 1:\n",
    "        ext = \"lines\"\n",
    "    else:\n",
    "        ext = \"line\"\n",
    "    print(f\"Your raw data have {num_duplicated_rows} duplicated \" + ext + \". Please de-deduplicate your raw data.!\")"
   ]
  },
  {
   "cell_type": "markdown",
   "metadata": {},
   "source": [
    "### Mỗi cột có ý nghĩa gì?"
   ]
  },
  {
   "cell_type": "markdown",
   "metadata": {},
   "source": [
    "RecordID: ID của mỗi bản ghi (1 tới 5811).\n",
    "\n",
    "AQI: Air Quality Index, đo lường mức độ ô nhiễm không khí hiện tại.\n",
    "\n",
    "PM10: Nồng độ bụi mịn có đường kính nhỏ hơn 10 micromet (μg/m³).\n",
    "\n",
    "PM2_5: Nồng độ bụi mịn có đường kính nhỏ hơn 2.5 micromet (μg/m³).\n",
    "\n",
    "NO2: Nồng độ khí nitrogen dioxide (ppb).\n",
    "\n",
    "SO2: Nồng độ khí sulfur dioxide (ppb).\n",
    "\n",
    "O3: Nồng độ khí ozone (ppb).\n",
    "\n",
    "Temperature: Nhiệt độ môi trường, tính bằng độ C (°C).\n",
    "\n",
    "Humidity: Độ ẩm không khí, tính bằng phần trăm (%).\n",
    "\n",
    "WindSpeed: Tốc độ gió, tính bằng mét trên giây (m/s).\n",
    "\n",
    "RespiratoryCases: Số lượng các trường hợp bệnh liên quan đến đường hô hấp được ghi nhận.\n",
    "\n",
    "CardiovascularCases: Số lượng các trường hợp bệnh tim mạch được ghi nhận.\n",
    "\n",
    "HospitalAdmissions: Số lượt nhập viện được ghi nhận.\n",
    "\n",
    "HealthImpactScore: Điểm đánh giá tác động sức khỏe tổng thể dựa trên chất lượng không khí và các yếu tố liên quan khác, với thang điểm từ 0 đến 100.\n",
    "\n",
    "HealthImpactClass: Phân loại tác động sức khỏe dựa trên điểm số HealthImpactScore:\n",
    "0: Very High - Tác động rất cao (HealthImpactScore ≥ 80).\n",
    "\n",
    "1: High - Tác động cao (60 ≤ HealthImpactScore < 80).\n",
    "\n",
    "2: Moderate - Tác động trung bình (40 ≤ HealthImpactScore < 60).\n",
    "\n",
    "3: Low - Tác động thấp (20 ≤ HealthImpactScore < 40).\n",
    "\n",
    "4: Very Low - Tác động rất thấp (HealthImpactScore < 20).​"
   ]
  },
  {
   "cell_type": "markdown",
   "metadata": {},
   "source": [
    "#### Trước khi kiểm tra kiểu dữ liệu của các thuộc tính trong dataframe, chúng ta quan sát thì thấy cột RecordID có thể dùng làm index."
   ]
  },
  {
   "cell_type": "code",
   "execution_count": null,
   "metadata": {},
   "outputs": [],
   "source": [
    "raw_df = raw_df.set_index('RecordID')"
   ]
  },
  {
   "cell_type": "code",
   "execution_count": null,
   "metadata": {},
   "outputs": [],
   "source": [
    "raw_df"
   ]
  },
  {
   "cell_type": "markdown",
   "metadata": {},
   "source": [
    "### Kiểu dữ liệu của mỗi cột hiện tại là gì? Có bao nhiêu cột có kiểu dữ liệu không phù hợp cho việc phân tích sau này?"
   ]
  },
  {
   "cell_type": "markdown",
   "metadata": {},
   "source": [
    "Tiếp theo, chúng ta sẽ xem xét kiểu dữ liệu (dtype) của mỗi cột trong DataFrame 'raw_df' và lưu kết quả vào Series 'dtypes' (Series này có index là tên cột trong DataFrame)."
   ]
  },
  {
   "cell_type": "code",
   "execution_count": null,
   "metadata": {},
   "outputs": [],
   "source": [
    "dtypes = raw_df.dtypes"
   ]
  },
  {
   "cell_type": "code",
   "execution_count": null,
   "metadata": {},
   "outputs": [],
   "source": [
    "dtypes"
   ]
  },
  {
   "cell_type": "code",
   "execution_count": null,
   "metadata": {},
   "outputs": [],
   "source": []
  }
 ],
 "metadata": {
  "kernelspec": {
   "display_name": "Python 3 (ipykernel)",
   "language": "python",
   "name": "python3"
  },
  "language_info": {
   "codemirror_mode": {
    "name": "ipython",
    "version": 3
   },
   "file_extension": ".py",
   "mimetype": "text/x-python",
   "name": "python",
   "nbconvert_exporter": "python",
   "pygments_lexer": "ipython3",
   "version": "3.10.8"
  }
 },
 "nbformat": 4,
 "nbformat_minor": 4
}
